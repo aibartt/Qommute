{
 "cells": [
  {
   "cell_type": "code",
   "execution_count": 19,
   "metadata": {},
   "outputs": [
    {
     "data": {
      "text/plain": [
       "Index(['BoroName', 'BoroCode', 'BoroCD', 'CounDist', 'AssemDist', 'StSenDist',\n",
       "       'CongDist', 'StopName', 'Corner', 'BusStopID', 'Routes', 'Direction',\n",
       "       'Notes', 'Elected Official', 'WO #', 'Wireless Communication',\n",
       "       'Release Date', 'RTPI Complete', 'Latitude', 'Longitude', 'NTAName',\n",
       "       'FEMAFldz', 'FEMAFldT', 'HrcEvac', 'Location'],\n",
       "      dtype='object')"
      ]
     },
     "execution_count": 19,
     "metadata": {},
     "output_type": "execute_result"
    }
   ],
   "source": [
    "import pandas as pd\n",
    "\n",
    "df = pd.read_csv(\"./Real_Time_Passenger_Information_Sign_Locations.csv\")\n",
    "\n",
    "df.keys()"
   ]
  },
  {
   "cell_type": "code",
   "execution_count": 20,
   "metadata": {},
   "outputs": [
    {
     "data": {
      "text/plain": [
       "RangeIndex(start=0, stop=513, step=1)"
      ]
     },
     "execution_count": 20,
     "metadata": {},
     "output_type": "execute_result"
    }
   ],
   "source": [
    "df.index"
   ]
  },
  {
   "cell_type": "code",
   "execution_count": 21,
   "metadata": {},
   "outputs": [],
   "source": [
    "df.drop_duplicates(subset=['Location'], inplace=True)"
   ]
  },
  {
   "cell_type": "code",
   "execution_count": 42,
   "metadata": {},
   "outputs": [],
   "source": [
    "to_export_df = df.filter(items=['NTAName', 'Latitude', 'Longitude'])"
   ]
  },
  {
   "cell_type": "code",
   "execution_count": 44,
   "metadata": {},
   "outputs": [],
   "source": [
    "to_export_df.to_csv('station_location.csv', index=False)"
   ]
  },
  {
   "cell_type": "code",
   "execution_count": 46,
   "metadata": {},
   "outputs": [
    {
     "name": "stdout",
     "output_type": "stream",
     "text": [
      "{'Central Park': [40.769033, -73.969649], 'Sunset Park (Central)': [40.636607, -74.01154], 'Prospect Park': [40.66007, -73.977772], 'Upper East Side-Lenox Hill-Roosevelt Island': [40.766741, -73.956738], 'Gravesend (West)': [40.600434, -73.995232], 'Chelsea-Hudson Yards': [40.747927, -74.003847], 'Fort Wadsworth': [40.599129, -74.062971], 'East Elmhurst': [40.767857, -73.880212], 'Midtown South-Flatiron-Union Square': [40.74986, -73.987669], 'Sunnyside': [40.744165, -73.925245], 'Grasmere-Arrochar-South Beach-Dongan Hills': [40.598413, -74.0919], 'East Harlem (South)': [40.785357, -73.949465], 'University Heights (South)-Morris Heights': [40.850268, -73.915494], 'Midtown-Times Square': [40.75357, -73.98098], 'Carroll Gardens-Cobble Hill-Gowanus-Red Hook': [40.674894, -74.001108], 'West New Brighton-Silver Lake-Grymes Hill': [40.634584, -74.117749], 'Upper East Side-Yorkville': [40.774585, -73.950985], 'Cypress Hills': [40.681721, -73.871923], 'New Springville-Willowbrook-Bulls Head-Travis': [40.595642, -74.161776], 'Astoria (Central)': [40.766032, -73.919706], 'Bedford Park': [40.866058, -73.894031], 'North Corona': [40.750232, -73.8628], 'Sunset Park (East)-Borough Park (West)': [40.645704, -73.994843], 'Astoria (North)-Ditmars-Steinway': [40.782262, -73.914779], 'Coney Island-Sea Gate': [40.577395, -74.000262], 'Bushwick (East)': [40.70005, -73.911769], 'Arden Heights-Rossville': [40.550223, -74.187657], \"Annadale-Huguenot-Prince's Bay-Woodrow\": [40.531413, -74.217676], 'Sunset Park (West)': [40.653814, -74.00524], 'East Midtown-Turtle Bay': [40.754142, -73.974132], 'Washington Heights (North)': [40.849579, -73.935065], 'Laurelton': [40.670818, -73.756361], 'Ozone Park': [40.676648, -73.843509], \"Mariner's Harbor-Arlington-Graniteville\": [40.63699, -74.159932], 'Kensington': [40.645396, -73.973514], 'Murray Hill-Kips Bay': [40.739627, -73.976496], 'Windsor Terrace-South Slope': [40.659626, -73.977217], 'Bedford-Stuyvesant (East)': [40.700573, -73.942261], 'Westerleigh-Castleton Corners': [40.62426, -74.139166], 'Rosebank-Shore Acres-Park Hill': [40.613883, -74.084703], 'Jackson Heights': [40.765178, -73.889116], 'Chinatown-Two Bridges': [40.713808, -73.99265], 'Upper West Side (Central)': [40.788158, -73.971085], 'Queens Village': [40.703532, -73.740957], 'Downtown Brooklyn-DUMBO-Boerum Hill': [40.69022, -73.987469], \"Hell's Kitchen\": [40.758584, -73.992665], 'Oakwood-Richmondtown': [40.564194, -74.110115], 'Oakland Gardens-Hollis Hills': [40.748911, -73.756702], 'Park Slope': [40.666648, -73.981897], 'Upper East Side-Carnegie Hill': [40.768812, -73.967483], 'Borough Park': [40.630641, -73.977573], 'Tompkinsville-Stapleton-Clifton-Fox Hills': [40.626764, -74.075789], 'Astoria (East)-Woodside (North)': [40.763822, -73.915208], 'Upper West Side-Lincoln Square': [40.769517, -73.981883], 'Port Richmond': [40.633841, -74.125398], 'South Ozone Park': [40.682029, -73.836716], 'Springfield Gardens (North)-Rochdale Village': [40.667706, -73.780563], 'Woodhaven': [40.693813, -73.851904], 'Bath Beach': [40.608191, -74.001599], 'Elmhurst': [40.736494, -73.877838], 'Kingsbridge Heights-Van Cortlandt Village': [40.878029, -73.902633], 'Long Island City-Hunters Point': [40.742622, -73.953917], 'University Heights (North)-Fordham': [40.869439, -73.90377], 'Bensonhurst': [40.606983, -74.002384], 'Old Astoria-Hallets Point': [40.769704, -73.927436], 'Hollis': [40.707267, -73.751719], 'Mount Hope': [40.853609, -73.906964], 'Jamaica': [40.712528, -73.784081], 'Greenpoint': [40.729832, -73.954159], 'Brighton Beach': [40.581414, -73.967253], 'Corona': [40.736544, -73.859004], 'Stuyvesant Town-Peter Cooper Village': [40.729699, -73.974715], 'Lower East Side': [40.713218, -73.984341], 'Bushwick (West)': [40.693965, -73.929692], 'Tottenville-Charleston': [40.504238, -74.245304], 'New Dorp-Midland Beach': [40.570901, -74.109122], 'St. George-New Brighton': [40.646355, -74.07844], 'St. Albans': [40.696066, -73.746528], 'Brownsville': [40.67504, -73.904496], 'Prospect Heights': [40.677797, -73.973229], 'Richmond Hill': [40.696843, -73.837062], 'Kingsbridge-Marble Hill': [40.884966, -73.900634], 'Far Rockaway-Bayswater': [40.595047, -73.755819], 'Wakefield-Woodlawn': [40.893135, -73.856867], 'Mapleton-Midwood (West)': [40.620765, -73.97541], 'Forest Hills': [40.721106, -73.844033], 'Todt Hill-Emerson Hill-Lighthouse Hill-Manor Heights': [40.608165, -74.126855], 'Springfield Gardens (South)-Brookville': [40.664368, -73.768265], 'Rosedale': [40.66568, -73.73623], 'Breezy Point-Belle Harbor-Rockaway Park-Broad Channel': [40.569271, -73.863805], 'Bay Ridge': [40.621293, -74.026112], 'East New York-New Lots': [40.666296, -73.882727], 'Norwood': [40.879494, -73.8856], 'Great Kills-Eltingville': [40.5356, -74.152275], 'Bedford-Stuyvesant (West)': [40.690902, -73.955843], 'West Farms': [40.84152, -73.876332], 'Tremont': [40.846781, -73.896223], 'Woodside': [40.745562, -73.903548], 'West Village': [40.731571, -74.006534], 'Miller Field': [40.568821, -74.106638], 'Washington Heights (South)': [40.84803, -73.936989], 'Flatbush': [40.649313, -73.963199], 'Upper West Side-Manhattan Valley': [40.799738, -73.968497], 'Brooklyn Heights': [40.692022, -73.989228], 'Sheepshead Bay-Manhattan Beach-Gerritsen Beach': [40.587519, -73.955125], 'Mount Eden-Claremont (West)': [40.838994, -73.913297], 'Inwood': [40.865578, -73.926845], 'East Williamsburg': [40.712062, -73.940017], 'Belmont': [40.860827, -73.889882], 'Gravesend (South)': [40.592785, -73.978889], 'Midwood': [40.625517, -73.958932], 'Queensbridge-Ravenswood-Dutch Kills': [40.765089, -73.931595], 'Ocean Hill': [40.683212, -73.91117], 'East Flatbush-Erasmus': [40.650764, -73.949277], 'East New York (North)': [40.676651, -73.890777], 'Howard Beach-Lindenwood': [40.664506, -73.849797], 'College Point': [40.781563, -73.846043]}\n"
     ]
    }
   ],
   "source": [
    "import csv\n",
    "from shapely.wkt import loads\n",
    "\n",
    "def parse_csv_file(file_path):\n",
    "    # Initialize empty lists to store the extracted values\n",
    "    latitudes = []\n",
    "    longitudes = []\n",
    "    names = []\n",
    "\n",
    "    with open(file_path, 'r') as csv_file:\n",
    "        reader = csv.reader(csv_file)\n",
    "        next(reader)  # Skip the header row if present\n",
    "\n",
    "        # Loop over each row in the csv using reader object\n",
    "        for row in reader:\n",
    "            # row variable is a list that represents a row in csv\n",
    "            latitude = float(row[1])\n",
    "            longitude = float(row[2])\n",
    "            name = row[0]\n",
    "            # Append the values to the respective lists\n",
    "            latitudes.append(latitude)\n",
    "            longitudes.append(longitude)\n",
    "            names.append(name)\n",
    "\n",
    "    return latitudes, longitudes, names\n",
    "\n",
    "# Path to the CSV file\n",
    "file_path = './bus_station_location.csv'\n",
    "\n",
    "# Call the function to parse the data from the file\n",
    "latitudes, longitudes, names = parse_csv_file(file_path)\n",
    "\n",
    "coordinates = {}\n",
    "\n",
    "for lat, lon, n in zip(latitudes, longitudes, names):\n",
    "  coordinates[n] = [lat,lon]\n",
    "\n",
    "print(coordinates)"
   ]
  },
  {
   "cell_type": "code",
   "execution_count": 51,
   "metadata": {},
   "outputs": [
    {
     "name": "stdout",
     "output_type": "stream",
     "text": [
      "Central Park\n",
      "Sunset Park (Central)\n",
      "Prospect Park\n",
      "Upper East Side-Lenox Hill-Roosevelt Island\n",
      "Gravesend (West)\n",
      "Chelsea-Hudson Yards\n",
      "Fort Wadsworth\n",
      "East Elmhurst\n",
      "Midtown South-Flatiron-Union Square\n",
      "Sunnyside\n",
      "Grasmere-Arrochar-South Beach-Dongan Hills\n",
      "East Harlem (South)\n",
      "University Heights (South)-Morris Heights\n",
      "Midtown-Times Square\n",
      "Carroll Gardens-Cobble Hill-Gowanus-Red Hook\n",
      "West New Brighton-Silver Lake-Grymes Hill\n",
      "Upper East Side-Yorkville\n",
      "Cypress Hills\n",
      "New Springville-Willowbrook-Bulls Head-Travis\n",
      "Astoria (Central)\n",
      "Bedford Park\n",
      "North Corona\n",
      "Sunset Park (East)-Borough Park (West)\n",
      "Astoria (North)-Ditmars-Steinway\n",
      "Coney Island-Sea Gate\n",
      "Bushwick (East)\n",
      "Arden Heights-Rossville\n",
      "Annadale-Huguenot-Prince's Bay-Woodrow\n",
      "Sunset Park (West)\n",
      "East Midtown-Turtle Bay\n",
      "Washington Heights (North)\n",
      "Laurelton\n",
      "Ozone Park\n",
      "Mariner's Harbor-Arlington-Graniteville\n",
      "Kensington\n",
      "Murray Hill-Kips Bay\n",
      "Windsor Terrace-South Slope\n",
      "Bedford-Stuyvesant (East)\n",
      "Westerleigh-Castleton Corners\n",
      "Rosebank-Shore Acres-Park Hill\n",
      "Jackson Heights\n",
      "Chinatown-Two Bridges\n",
      "Upper West Side (Central)\n",
      "Queens Village\n",
      "Downtown Brooklyn-DUMBO-Boerum Hill\n",
      "Hell's Kitchen\n",
      "Oakwood-Richmondtown\n",
      "Oakland Gardens-Hollis Hills\n",
      "Park Slope\n",
      "Upper East Side-Carnegie Hill\n",
      "Borough Park\n",
      "Tompkinsville-Stapleton-Clifton-Fox Hills\n",
      "Astoria (East)-Woodside (North)\n",
      "Upper West Side-Lincoln Square\n",
      "Port Richmond\n",
      "South Ozone Park\n",
      "Springfield Gardens (North)-Rochdale Village\n",
      "Woodhaven\n",
      "Bath Beach\n",
      "Elmhurst\n",
      "Kingsbridge Heights-Van Cortlandt Village\n",
      "Long Island City-Hunters Point\n",
      "University Heights (North)-Fordham\n",
      "Bensonhurst\n",
      "Old Astoria-Hallets Point\n",
      "Hollis\n",
      "Mount Hope\n",
      "Jamaica\n",
      "Greenpoint\n",
      "Brighton Beach\n",
      "Corona\n",
      "Stuyvesant Town-Peter Cooper Village\n",
      "Lower East Side\n",
      "Bushwick (West)\n",
      "Tottenville-Charleston\n",
      "New Dorp-Midland Beach\n",
      "St. George-New Brighton\n",
      "St. Albans\n",
      "Brownsville\n",
      "Prospect Heights\n",
      "Richmond Hill\n",
      "Kingsbridge-Marble Hill\n",
      "Far Rockaway-Bayswater\n",
      "Wakefield-Woodlawn\n",
      "Mapleton-Midwood (West)\n",
      "Forest Hills\n",
      "Todt Hill-Emerson Hill-Lighthouse Hill-Manor Heights\n",
      "Springfield Gardens (South)-Brookville\n",
      "Rosedale\n",
      "Breezy Point-Belle Harbor-Rockaway Park-Broad Channel\n",
      "Bay Ridge\n",
      "East New York-New Lots\n",
      "Norwood\n",
      "Great Kills-Eltingville\n",
      "Bedford-Stuyvesant (West)\n",
      "West Farms\n",
      "Tremont\n",
      "Woodside\n",
      "West Village\n",
      "Miller Field\n",
      "Washington Heights (South)\n",
      "Flatbush\n",
      "Upper West Side-Manhattan Valley\n",
      "Brooklyn Heights\n",
      "Sheepshead Bay-Manhattan Beach-Gerritsen Beach\n",
      "Mount Eden-Claremont (West)\n",
      "Inwood\n",
      "East Williamsburg\n",
      "Belmont\n",
      "Gravesend (South)\n",
      "Midwood\n",
      "Queensbridge-Ravenswood-Dutch Kills\n",
      "Ocean Hill\n",
      "East Flatbush-Erasmus\n",
      "East New York (North)\n",
      "Howard Beach-Lindenwood\n",
      "College Point\n",
      "CSV file 'output.csv' has been created and populated with data.\n"
     ]
    }
   ],
   "source": [
    "import requests\n",
    "import csv\n",
    "\n",
    "# Create and write to the CSV file\n",
    "with open(\"./station_distance.csv\", mode=\"w\", newline=\"\") as file:\n",
    "      writer = csv.writer(file)\n",
    "      writer.writerow([\"start\", \"end\", \"duration (mins)\"])\n",
    "\n",
    "\n",
    "with open(\"./station_distance.csv\", mode=\"a\", newline=\"\") as file:\n",
    "    writer = csv.writer(file)\n",
    "\n",
    "    for start in coordinates.items():\n",
    "      start_lat = start[1][0]\n",
    "      start_lon = start[1][1]\n",
    "      start_name = start[0]\n",
    "      print(start_name)\n",
    "      for end in coordinates.items():\n",
    "\n",
    "        end_name = end[0]\n",
    "        if end_name == start_name:\n",
    "          continue\n",
    "\n",
    "        end_lat = end[1][0]\n",
    "        end_lon = end[1][1]\n",
    "\n",
    "        url = f\"https://api.mapbox.com/directions/v5/mapbox/driving/{start_lon}%2C{start_lat}%3B{end_lon}%2C{end_lat}?alternatives=false&annotations=distance%2Cduration&continue_straight=true&geometries=geojson&overview=full&steps=false&access_token=pk.eyJ1Ijoic2FzaGEtc3NtOTk2MCIsImEiOiJjbG4wcm9saG8xc3duMmlxd3pjY2MybDcyIn0.ol8PlZNYBX_XbtBu8I3igw\"\n",
    "\n",
    "        try:\n",
    "            r = requests.get(url)\n",
    "            r.raise_for_status()  # Raise an exception for bad response status\n",
    "            dur = r.json()['routes'][0]['duration'] / 60  # Duration in minutes\n",
    "\n",
    "        # Write the record to the CSV file immediately after receiving the response\n",
    "            writer.writerow([start_name, end_name, dur])\n",
    "        except requests.exceptions.RequestException as e:\n",
    "            print(f\"Error making API request: {e}\")\n",
    "\n",
    "\n",
    "print(\"CSV file 'output.csv' has been created and populated with data.\")"
   ]
  },
  {
   "cell_type": "code",
   "execution_count": null,
   "metadata": {},
   "outputs": [],
   "source": []
  }
 ],
 "metadata": {
  "kernelspec": {
   "display_name": "base",
   "language": "python",
   "name": "python3"
  },
  "language_info": {
   "codemirror_mode": {
    "name": "ipython",
    "version": 3
   },
   "file_extension": ".py",
   "mimetype": "text/x-python",
   "name": "python",
   "nbconvert_exporter": "python",
   "pygments_lexer": "ipython3",
   "version": "3.11.3"
  },
  "orig_nbformat": 4
 },
 "nbformat": 4,
 "nbformat_minor": 2
}
